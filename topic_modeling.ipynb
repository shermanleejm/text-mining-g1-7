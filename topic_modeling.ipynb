{
 "metadata": {
  "language_info": {
   "codemirror_mode": {
    "name": "ipython",
    "version": 3
   },
   "file_extension": ".py",
   "mimetype": "text/x-python",
   "name": "python",
   "nbconvert_exporter": "python",
   "pygments_lexer": "ipython3",
   "version": "3.8.5-final"
  },
  "orig_nbformat": 2,
  "kernelspec": {
   "name": "python38564bit744d58b894bb4db782f8537331854fe8",
   "display_name": "Python 3.8.5 64-bit"
  }
 },
 "nbformat": 4,
 "nbformat_minor": 2,
 "cells": [
  {
   "cell_type": "code",
   "execution_count": 56,
   "metadata": {},
   "outputs": [],
   "source": [
    "import pandas as pd \n",
    "import re\n",
    "import json\n",
    "from nltk.tag import pos_tag\n",
    "from nltk.chunk import conlltags2tree, tree2conlltags\n",
    "from nltk.stem import WordNetLemmatizer, SnowballStemmer\n",
    "from nltk.stem.porter import *\n",
    "import nltk\n",
    "import gensim\n",
    "from gensim import corpora, models\n",
    "import math\n",
    "stopwords = nltk.corpus.stopwords.words('english')\n",
    "lemmatizer = WordNetLemmatizer()\n",
    "stemmer = SnowballStemmer(\"english\")\n",
    "p_stemmer = PorterStemmer()"
   ]
  },
  {
   "cell_type": "code",
   "execution_count": 72,
   "metadata": {},
   "outputs": [
    {
     "output_type": "stream",
     "name": "stdout",
     "text": [
      "<class 'pandas.core.frame.DataFrame'>\nRangeIndex: 29047 entries, 0 to 29046\nData columns (total 9 columns):\n #   Column        Non-Null Count  Dtype \n---  ------        --------------  ----- \n 0   Unnamed: 0    29047 non-null  int64 \n 1   title         29047 non-null  object\n 2   url           29047 non-null  object\n 3   crawled_time  29047 non-null  object\n 4   date          29047 non-null  object\n 5   domain        29047 non-null  object\n 6   author        19635 non-null  object\n 7   content       29047 non-null  object\n 8   topic_area    29047 non-null  object\ndtypes: int64(1), object(8)\nmemory usage: 2.0+ MB\n"
     ]
    }
   ],
   "source": [
    "df = pd.read_csv(\"sample.csv\")\n",
    "df.info()\n",
    "\n",
    "## FOR TESTING ONLY\n",
    "# df = df.head()"
   ]
  },
  {
   "cell_type": "code",
   "execution_count": 73,
   "metadata": {
    "tags": []
   },
   "outputs": [],
   "source": [
    "## Remove stop words and tokenise and stem\n",
    "def clean_content_SLOW(row):\n",
    "    content = re.sub(\"[^0-9a-zA-Z\\&]+\", \" \", row['content']).split(\" \")\n",
    "    processed = [stemmer.stem(lemmatizer.lemmatize(x.lower(), pos='v')) for x in content if x not in stopwords and x.strip() != \"\"]\n",
    "    return processed\n",
    "\n",
    "\n",
    "def clean_content_FAST(row):\n",
    "    content = re.sub(\"[^a-zA-Z\\&]+\", \" \", row['content']).split(\" \")\n",
    "    processed = [p_stemmer.stem(x.lower()) for x in content if x not in stopwords and x.strip() != \"\"]\n",
    "    return processed\n",
    "\n",
    "\n",
    "df[\"processed\"] = df.apply(lambda row: clean_content_SLOW(row), axis=1)"
   ]
  },
  {
   "cell_type": "code",
   "execution_count": 74,
   "metadata": {},
   "outputs": [
    {
     "output_type": "stream",
     "name": "stdout",
     "text": [
      "Dictionary(17086 unique tokens: ['&', '0&placement', '0&userid', '02', '1']...)\n"
     ]
    }
   ],
   "source": [
    "dictionary = corpora.Dictionary(df[\"processed\"])\n",
    "dictionary.filter_extremes(no_below=15, no_above=0.5, keep_n=100000)\n",
    "print (dictionary)"
   ]
  },
  {
   "cell_type": "code",
   "execution_count": 75,
   "metadata": {},
   "outputs": [],
   "source": [
    "bow_corpus = [dictionary.doc2bow(doc) for doc in df[\"processed\"]]\n",
    "# bow_corpus[69]"
   ]
  },
  {
   "source": [
    "# TF-IDF TIME"
   ],
   "cell_type": "markdown",
   "metadata": {}
  },
  {
   "cell_type": "code",
   "execution_count": 76,
   "metadata": {
    "tags": []
   },
   "outputs": [],
   "source": [
    "tfidf = models.TfidfModel(bow_corpus)\n",
    "corpus_tfidf = tfidf[bow_corpus]\n",
    "\n",
    "## Print this if you want see \n",
    "# for doc in corpus_tfidf:\n",
    "#     print (doc)"
   ]
  },
  {
   "cell_type": "code",
   "execution_count": 82,
   "metadata": {},
   "outputs": [],
   "source": [
    "lda_model = models.LdaMulticore(corpus_tfidf, num_topics=15, id2word=dictionary, passes=2, workers=6)"
   ]
  },
  {
   "cell_type": "code",
   "execution_count": 131,
   "metadata": {},
   "outputs": [
    {
     "output_type": "execute_result",
     "data": {
      "text/plain": [
       "[(3, 0.5576914), (12, 0.3719116)]"
      ]
     },
     "metadata": {},
     "execution_count": 131
    }
   ],
   "source": [
    "lda_model[corpus_tfidf[420]]"
   ]
  },
  {
   "cell_type": "code",
   "execution_count": 117,
   "metadata": {},
   "outputs": [
    {
     "output_type": "stream",
     "name": "stdout",
     "text": [
      "Topic: 0 Word: 0.008*\"queen\" + 0.008*\"royal\" + 0.007*\"meghan\" + 0.006*\"princ\" + 0.005*\"harri\" + 0.003*\"duke\" + 0.003*\"palac\" + 0.003*\"duchess\" + 0.003*\"flybe\" + 0.003*\"markl\"\n\nTopic: 1 Word: 0.005*\"compani\" + 0.005*\"forward\" + 0.004*\"statement\" + 0.003*\"oper\" + 0.003*\"2019\" + 0.003*\"2020\" + 0.003*\"custom\" + 0.003*\"inform\" + 0.003*\"look\" + 0.003*\"com\"\n\nTopic: 2 Word: 0.003*\"i\" + 0.003*\"uk\" + 0.002*\"school\" + 0.002*\"test\" + 0.002*\"home\" + 0.002*\"govern\" + 0.002*\"case\" + 0.002*\"newspap\" + 0.002*\"isol\" + 0.002*\"go\"\n\nTopic: 3 Word: 0.004*\"trump\" + 0.002*\"hous\" + 0.002*\"democrat\" + 0.002*\"state\" + 0.002*\"senat\" + 0.002*\"worker\" + 0.002*\"store\" + 0.002*\"u\" + 0.002*\"case\" + 0.002*\"test\"\n\nTopic: 4 Word: 0.002*\"mortgag\" + 0.002*\"market\" + 0.002*\"oil\" + 0.002*\"china\" + 0.002*\"bank\" + 0.002*\"0\" + 0.002*\"price\" + 0.002*\"stock\" + 0.002*\"disney\" + 0.002*\"dollar\"\n\nTopic: 5 Word: 0.003*\"buffett\" + 0.002*\"berkshir\" + 0.002*\"eldorado\" + 0.002*\"china\" + 0.002*\"turkey\" + 0.002*\"test\" + 0.002*\"fda\" + 0.002*\"airbus\" + 0.001*\"compani\" + 0.001*\"roch\"\n\nTopic: 6 Word: 0.004*\"biden\" + 0.004*\"sander\" + 0.003*\"trump\" + 0.003*\"i\" + 0.003*\"facebook\" + 0.002*\"googl\" + 0.002*\"campaign\" + 0.002*\"democrat\" + 0.002*\"cramer\" + 0.002*\"game\"\n\nTopic: 7 Word: 0.005*\"bank\" + 0.005*\"market\" + 0.004*\"feed\" + 0.004*\"0\" + 0.004*\"stock\" + 0.003*\"bond\" + 0.003*\"yield\" + 0.003*\"index\" + 0.003*\"investor\" + 0.003*\"rat\"\n\nTopic: 8 Word: 0.004*\"lme\" + 0.003*\"automak\" + 0.003*\"plant\" + 0.003*\"tonn\" + 0.003*\"china\" + 0.003*\"auto\" + 0.003*\"sunak\" + 0.002*\"copper\" + 0.002*\"motor\" + 0.002*\"vehicl\"\n\nTopic: 9 Word: 0.002*\"stock\" + 0.002*\"appl\" + 0.002*\"china\" + 0.002*\"compani\" + 0.002*\"zoom\" + 0.002*\"quarter\" + 0.002*\"share\" + 0.002*\"breakingview\" + 0.002*\"nba\" + 0.002*\"u\"\n\nTopic: 10 Word: 0.009*\"oil\" + 0.005*\"price\" + 0.004*\"barrel\" + 0.004*\"crude\" + 0.004*\"opec\" + 0.003*\"saudi\" + 0.003*\"bank\" + 0.003*\"cut\" + 0.003*\"russia\" + 0.003*\"market\"\n\nTopic: 11 Word: 0.003*\"chelsea\" + 0.002*\"odoi\" + 0.002*\"leagu\" + 0.002*\"china\" + 0.002*\"callum\" + 0.001*\"hudson\" + 0.001*\"willian\" + 0.001*\"le\" + 0.001*\"oil\" + 0.001*\"club\"\n\nTopic: 12 Word: 0.007*\"airlin\" + 0.004*\"china\" + 0.004*\"flight\" + 0.003*\"travel\" + 0.002*\"hong\" + 0.002*\"kong\" + 0.002*\"chines\" + 0.002*\"air\" + 0.002*\"beij\" + 0.002*\"wuhan\"\n\nTopic: 13 Word: 0.003*\"flight\" + 0.002*\"travel\" + 0.002*\"airlin\" + 0.002*\"test\" + 0.002*\"uk\" + 0.002*\"passeng\" + 0.002*\"itali\" + 0.002*\"store\" + 0.002*\"airport\" + 0.002*\"case\"\n\nTopic: 14 Word: 0.004*\"symptom\" + 0.003*\"c\" + 0.003*\"seat\" + 0.003*\"test\" + 0.003*\"studi\" + 0.003*\"vaccin\" + 0.002*\"leagu\" + 0.002*\"infect\" + 0.002*\"mask\" + 0.002*\"percent\"\n\n"
     ]
    }
   ],
   "source": [
    "for idx, topic in lda_model.print_topics(-1):\n",
    "    print('Topic: {} Word: {}'.format(idx, topic), end=\"\\n\\n\")"
   ]
  },
  {
   "cell_type": "code",
   "execution_count": 132,
   "metadata": {},
   "outputs": [
    {
     "output_type": "execute_result",
     "data": {
      "text/plain": [
       "'\\nlda_model = models.LdaMulticore(corpus_tfidf, num_topics=15, id2word=dictionary, passes=2, workers=6)\\n\\nUK\\nTopic: 0 Word: 0.008*\"queen\" + 0.008*\"royal\" + 0.007*\"meghan\" + 0.006*\"princ\" + 0.005*\"harri\" + 0.003*\"duke\" + 0.003*\"palac\" + 0.003*\"duchess\" + 0.003*\"flybe\" + 0.003*\"markl\"\\nTopic: 11 Word: 0.003*\"chelsea\" + 0.002*\"odoi\" + 0.002*\"leagu\" + 0.002*\"china\" + 0.002*\"callum\" + 0.001*\"hudson\" + 0.001*\"willian\" + 0.001*\"le\" + 0.001*\"oil\" + 0.001*\"club\"\\n\\nFinancial Impact\\nTopic: 4 Word: 0.002*\"mortgag\" + 0.002*\"market\" + 0.002*\"oil\" + 0.002*\"china\" + 0.002*\"bank\" + 0.002*\"0\" + 0.002*\"price\" + 0.002*\"stock\" + 0.002*\"disney\" + 0.002*\"dollar\"\\nTopic: 5 Word: 0.003*\"buffett\" + 0.002*\"berkshir\" + 0.002*\"eldorado\" + 0.002*\"china\" + 0.002*\"turkey\" + 0.002*\"test\" + 0.002*\"fda\" + 0.002*\"airbus\" + 0.001*\"compani\" + 0.001*\"roch\"\\nTopic: 7 Word: 0.005*\"bank\" + 0.005*\"market\" + 0.004*\"feed\" + 0.004*\"0\" + 0.004*\"stock\" + 0.003*\"bond\" + 0.003*\"yield\" + 0.003*\"index\" + 0.003*\"investor\" + 0.003*\"rat\"\\nTopic: 9 Word: 0.002*\"stock\" + 0.002*\"appl\" + 0.002*\"china\" + 0.002*\"compani\" + 0.002*\"zoom\" + 0.002*\"quarter\" + 0.002*\"share\" + 0.002*\"breakingview\" + 0.002*\"nba\" + 0.002*\"u\"\\nTopic: 10 Word: 0.009*\"oil\" + 0.005*\"price\" + 0.004*\"barrel\" + 0.004*\"crude\" + 0.004*\"opec\" + 0.003*\"saudi\" + 0.003*\"bank\" + 0.003*\"cut\" + 0.003*\"russia\" + 0.003*\"market\"\\n\\nManufacturing\\nTopic: 8 Word: 0.004*\"lme\" + 0.003*\"automak\" + 0.003*\"plant\" + 0.003*\"tonn\" + 0.003*\"china\" + 0.003*\"auto\" + 0.003*\"sunak\" + 0.002*\"copper\" + 0.002*\"motor\" + 0.002*\"vehicl\"\\n\\nPolitcal\\nTopic: 6 Word: 0.004*\"biden\" + 0.004*\"sander\" + 0.003*\"trump\" + 0.003*\"i\" + 0.003*\"facebook\" + 0.002*\"googl\" + 0.002*\"campaign\" + 0.002*\"democrat\" + 0.002*\"cramer\" + 0.002*\"game\"\\n\\nAirline\\nTopic: 13 Word: 0.003*\"flight\" + 0.002*\"travel\" + 0.002*\"airlin\" + 0.002*\"test\" + 0.002*\"uk\" + 0.002*\"passeng\" + 0.002*\"itali\" + 0.002*\"store\" + 0.002*\"airport\" + 0.002*\"case\"\\n\\nTravel to/from China\\nTopic: 12 Word: 0.007*\"airlin\" + 0.004*\"china\" + 0.004*\"flight\" + 0.003*\"travel\" + 0.002*\"hong\" + 0.002*\"kong\" + 0.002*\"chines\" + 0.002*\"air\" + 0.002*\"beij\" + 0.002*\"wuhan\"\\n\\nVaccination\\nTopic: 14 Word: 0.004*\"symptom\" + 0.003*\"c\" + 0.003*\"seat\" + 0.003*\"test\" + 0.003*\"studi\" + 0.003*\"vaccin\" + 0.002*\"leagu\" + 0.002*\"infect\" + 0.002*\"mask\" + 0.002*\"percent\"\\n\\nLifestyle Impact\\nTopic: 2 Word: 0.003*\"i\" + 0.003*\"uk\" + 0.002*\"school\" + 0.002*\"test\" + 0.002*\"home\" + 0.002*\"govern\" + 0.002*\"case\" + 0.002*\"newspap\" + 0.002*\"isol\" + 0.002*\"go\"\\n\\nCompany \\n'"
      ]
     },
     "metadata": {},
     "execution_count": 132
    }
   ],
   "source": [
    "\"\"\"\n",
    "lda_model = models.LdaMulticore(corpus_tfidf, num_topics=15, id2word=dictionary, passes=2, workers=6)\n",
    "\n",
    "UK\n",
    "Topic: 0 Word: 0.008*\"queen\" + 0.008*\"royal\" + 0.007*\"meghan\" + 0.006*\"princ\" + 0.005*\"harri\" + 0.003*\"duke\" + 0.003*\"palac\" + 0.003*\"duchess\" + 0.003*\"flybe\" + 0.003*\"markl\"\n",
    "Topic: 11 Word: 0.003*\"chelsea\" + 0.002*\"odoi\" + 0.002*\"leagu\" + 0.002*\"china\" + 0.002*\"callum\" + 0.001*\"hudson\" + 0.001*\"willian\" + 0.001*\"le\" + 0.001*\"oil\" + 0.001*\"club\"\n",
    "\n",
    "Financial Impact\n",
    "Topic: 4 Word: 0.002*\"mortgag\" + 0.002*\"market\" + 0.002*\"oil\" + 0.002*\"china\" + 0.002*\"bank\" + 0.002*\"0\" + 0.002*\"price\" + 0.002*\"stock\" + 0.002*\"disney\" + 0.002*\"dollar\"\n",
    "Topic: 5 Word: 0.003*\"buffett\" + 0.002*\"berkshir\" + 0.002*\"eldorado\" + 0.002*\"china\" + 0.002*\"turkey\" + 0.002*\"test\" + 0.002*\"fda\" + 0.002*\"airbus\" + 0.001*\"compani\" + 0.001*\"roch\"\n",
    "Topic: 7 Word: 0.005*\"bank\" + 0.005*\"market\" + 0.004*\"feed\" + 0.004*\"0\" + 0.004*\"stock\" + 0.003*\"bond\" + 0.003*\"yield\" + 0.003*\"index\" + 0.003*\"investor\" + 0.003*\"rat\"\n",
    "Topic: 9 Word: 0.002*\"stock\" + 0.002*\"appl\" + 0.002*\"china\" + 0.002*\"compani\" + 0.002*\"zoom\" + 0.002*\"quarter\" + 0.002*\"share\" + 0.002*\"breakingview\" + 0.002*\"nba\" + 0.002*\"u\"\n",
    "Topic: 10 Word: 0.009*\"oil\" + 0.005*\"price\" + 0.004*\"barrel\" + 0.004*\"crude\" + 0.004*\"opec\" + 0.003*\"saudi\" + 0.003*\"bank\" + 0.003*\"cut\" + 0.003*\"russia\" + 0.003*\"market\"\n",
    "\n",
    "Manufacturing\n",
    "Topic: 8 Word: 0.004*\"lme\" + 0.003*\"automak\" + 0.003*\"plant\" + 0.003*\"tonn\" + 0.003*\"china\" + 0.003*\"auto\" + 0.003*\"sunak\" + 0.002*\"copper\" + 0.002*\"motor\" + 0.002*\"vehicl\"\n",
    "\n",
    "Politcal\n",
    "Topic: 6 Word: 0.004*\"biden\" + 0.004*\"sander\" + 0.003*\"trump\" + 0.003*\"i\" + 0.003*\"facebook\" + 0.002*\"googl\" + 0.002*\"campaign\" + 0.002*\"democrat\" + 0.002*\"cramer\" + 0.002*\"game\"\n",
    "\n",
    "Airline\n",
    "Topic: 13 Word: 0.003*\"flight\" + 0.002*\"travel\" + 0.002*\"airlin\" + 0.002*\"test\" + 0.002*\"uk\" + 0.002*\"passeng\" + 0.002*\"itali\" + 0.002*\"store\" + 0.002*\"airport\" + 0.002*\"case\"\n",
    "\n",
    "Travel to/from China\n",
    "Topic: 12 Word: 0.007*\"airlin\" + 0.004*\"china\" + 0.004*\"flight\" + 0.003*\"travel\" + 0.002*\"hong\" + 0.002*\"kong\" + 0.002*\"chines\" + 0.002*\"air\" + 0.002*\"beij\" + 0.002*\"wuhan\"\n",
    "\n",
    "Vaccination\n",
    "Topic: 14 Word: 0.004*\"symptom\" + 0.003*\"c\" + 0.003*\"seat\" + 0.003*\"test\" + 0.003*\"studi\" + 0.003*\"vaccin\" + 0.002*\"leagu\" + 0.002*\"infect\" + 0.002*\"mask\" + 0.002*\"percent\"\n",
    "\n",
    "Lifestyle Impact\n",
    "Topic: 2 Word: 0.003*\"i\" + 0.003*\"uk\" + 0.002*\"school\" + 0.002*\"test\" + 0.002*\"home\" + 0.002*\"govern\" + 0.002*\"case\" + 0.002*\"newspap\" + 0.002*\"isol\" + 0.002*\"go\"\n",
    "\n",
    "Company \n",
    "Topic: 1 Word: 0.005*\"compani\" + 0.005*\"forward\" + 0.004*\"statement\" + 0.003*\"oper\" + 0.003*\"2019\" + 0.003*\"2020\" + 0.003*\"custom\" + 0.003*\"inform\" + 0.003*\"look\" + 0.003*\"com\"\n",
    "\"\"\""
   ]
  },
  {
   "cell_type": "code",
   "execution_count": 119,
   "metadata": {},
   "outputs": [
    {
     "output_type": "execute_result",
     "data": {
      "text/plain": [
       "[(14, 0.93333924)]"
      ]
     },
     "metadata": {},
     "execution_count": 119
    }
   ],
   "source": [
    "lda_model[corpus_tfidf[5]]"
   ]
  },
  {
   "cell_type": "code",
   "execution_count": 120,
   "metadata": {},
   "outputs": [
    {
     "output_type": "stream",
     "name": "stdout",
     "text": [
      "29047\n"
     ]
    }
   ],
   "source": [
    "print (len(corpus_tfidf))"
   ]
  },
  {
   "source": [
    "# Get distribution of topics and articles\n",
    "def getMajorTopic(arr):\n",
    "    max_percentage = 0\n",
    "    topic = -1\n",
    "    for tup in arr:\n",
    "        if tup[1] > max_percentage:\n",
    "            max_percentage = tup[1]\n",
    "            topic = tup[0]\n",
    "    return topic, max_percentage\n",
    "\n",
    "\n",
    "topic_distribution = {}\n",
    "for i in range(len(corpus_tfidf)):\n",
    "    val = lda_model[corpus_tfidf[i]]\n",
    "    topic, max_percentage = getMajorTopic(val)\n",
    "    if topic_distribution.get(topic, False) == False:\n",
    "        topic_distribution[topic] = 0\n",
    "    topic_distribution[topic] += 1"
   ],
   "cell_type": "code",
   "metadata": {},
   "execution_count": 123,
   "outputs": []
  },
  {
   "cell_type": "code",
   "execution_count": 128,
   "metadata": {},
   "outputs": [
    {
     "output_type": "display_data",
     "data": {
      "text/plain": "<Figure size 432x288 with 1 Axes>",
      "image/svg+xml": "<?xml version=\"1.0\" encoding=\"utf-8\" standalone=\"no\"?>\n<!DOCTYPE svg PUBLIC \"-//W3C//DTD SVG 1.1//EN\"\n  \"http://www.w3.org/Graphics/SVG/1.1/DTD/svg11.dtd\">\n<!-- Created with matplotlib (https://matplotlib.org/) -->\n<svg height=\"235.773172pt\" version=\"1.1\" viewBox=\"0 0 349.2 235.773172\" width=\"349.2pt\" xmlns=\"http://www.w3.org/2000/svg\" xmlns:xlink=\"http://www.w3.org/1999/xlink\">\n <defs>\n  <style type=\"text/css\">\n*{stroke-linecap:butt;stroke-linejoin:round;}\n  </style>\n </defs>\n <g id=\"figure_1\">\n  <g id=\"patch_1\">\n   <path d=\"M 0 235.773172 \nL 349.2 235.773172 \nL 349.2 0 \nL 0 0 \nz\n\" style=\"fill:none;\"/>\n  </g>\n  <g id=\"axes_1\">\n   <g id=\"patch_2\">\n    <path d=\"M 273.37733 116.490215 \nC 273.37733 99.891861 269.167939 83.561468 261.144137 69.031363 \nC 253.120335 54.501259 241.541191 42.240584 227.49321 33.399795 \nL 175.202076 116.490215 \nL 273.37733 116.490215 \nz\n\" style=\"fill:#1f77b4;\"/>\n   </g>\n   <g id=\"patch_3\">\n    <path d=\"M 227.49321 33.399795 \nC 221.766605 29.795882 215.682737 26.793622 209.338685 24.440921 \nC 202.994633 22.088221 196.42432 20.39766 189.732586 19.396215 \nL 175.202076 116.490215 \nL 227.49321 33.399795 \nz\n\" style=\"fill:#ff7f0e;\"/>\n   </g>\n   <g id=\"patch_4\">\n    <path d=\"M 189.732586 19.396215 \nC 174.279754 17.083636 158.495802 18.493179 143.69726 23.507275 \nC 128.898717 28.521371 115.508795 36.996626 104.644339 48.226123 \nL 175.202076 116.490215 \nL 189.732586 19.396215 \nz\n\" style=\"fill:#2ca02c;\"/>\n   </g>\n   <g id=\"patch_5\">\n    <path d=\"M 104.644339 48.226123 \nC 93.510279 59.734283 85.358975 73.79358 80.903612 89.173917 \nC 76.448249 104.554254 75.82267 120.793596 79.081608 136.471107 \nC 82.340546 152.148618 89.386102 166.793335 99.601834 179.123942 \nC 109.817566 191.454548 122.896587 201.100624 137.69457 207.2182 \nL 175.202076 116.490215 \nL 104.644339 48.226123 \nz\n\" style=\"fill:#d62728;\"/>\n   </g>\n   <g id=\"patch_6\">\n    <path d=\"M 137.69457 207.2182 \nC 139.657288 208.0296 141.645819 208.777097 143.657023 209.459511 \nC 145.668228 210.141925 147.701047 210.758897 149.752271 211.309452 \nL 175.202076 116.490215 \nL 137.69457 207.2182 \nz\n\" style=\"fill:#9467bd;\"/>\n   </g>\n   <g id=\"patch_7\">\n    <path d=\"M 149.752271 211.309452 \nC 154.317826 212.534863 158.96593 213.428927 163.660296 213.984664 \nC 168.354662 214.540402 173.083043 214.756364 177.808524 214.630863 \nL 175.202076 116.490215 \nL 149.752271 211.309452 \nz\n\" style=\"fill:#8c564b;\"/>\n   </g>\n   <g id=\"patch_8\">\n    <path d=\"M 177.808524 214.630863 \nC 190.193205 214.301947 202.404438 211.631691 213.796045 206.761395 \nC 225.187653 201.891099 235.555092 194.908213 244.349751 186.182248 \nL 175.202076 116.490215 \nL 177.808524 214.630863 \nz\n\" style=\"fill:#e377c2;\"/>\n   </g>\n   <g id=\"patch_9\">\n    <path d=\"M 244.349751 186.182248 \nC 248.118088 182.443345 251.576974 178.404956 254.692377 174.106814 \nC 257.80778 169.808672 260.569448 165.264922 262.950209 160.520269 \nL 175.202076 116.490215 \nL 244.349751 186.182248 \nz\n\" style=\"fill:#7f7f7f;\"/>\n   </g>\n   <g id=\"patch_10\">\n    <path d=\"M 262.950209 160.520269 \nC 265.238757 155.959387 267.168236 151.227011 268.721098 146.366176 \nC 270.273959 141.505341 271.445483 136.530826 272.225016 131.487868 \nL 175.202076 116.490215 \nL 262.950209 160.520269 \nz\n\" style=\"fill:#bcbd22;\"/>\n   </g>\n   <g id=\"patch_11\">\n    <path d=\"M 272.225016 131.487868 \nC 272.354243 130.651869 272.47266 129.814235 272.580237 128.975176 \nC 272.687814 128.136116 272.784541 127.295701 272.870396 126.454141 \nL 175.202076 116.490215 \nL 272.225016 131.487868 \nz\n\" style=\"fill:#17becf;\"/>\n   </g>\n   <g id=\"patch_12\">\n    <path d=\"M 272.870396 126.454141 \nC 272.916016 126.006957 272.958566 125.559465 272.99804 125.111696 \nC 273.037514 124.663927 273.073913 124.215893 273.107233 123.767624 \nL 175.202076 116.490215 \nL 272.870396 126.454141 \nz\n\" style=\"fill:#1f77b4;\"/>\n   </g>\n   <g id=\"patch_13\">\n    <path d=\"M 273.107233 123.767624 \nC 273.150523 123.185226 273.188616 122.602454 273.221507 122.019376 \nC 273.254398 121.436299 273.282085 120.852939 273.304566 120.269368 \nL 175.202076 116.490215 \nL 273.107233 123.767624 \nz\n\" style=\"fill:#ff7f0e;\"/>\n   </g>\n   <g id=\"patch_14\">\n    <path d=\"M 273.304566 120.269368 \nC 273.323095 119.788364 273.338087 119.307231 273.349539 118.826007 \nC 273.360992 118.344783 273.368905 117.863481 273.373278 117.382141 \nL 175.202076 116.490215 \nL 273.304566 120.269368 \nz\n\" style=\"fill:#2ca02c;\"/>\n   </g>\n   <g id=\"patch_15\">\n    <path d=\"M 273.373278 117.382141 \nC 273.373761 117.329052 273.3742 117.275963 273.374596 117.222874 \nC 273.374992 117.169784 273.375345 117.116694 273.375655 117.063604 \nL 175.202076 116.490215 \nL 273.373278 117.382141 \nz\n\" style=\"fill:#d62728;\"/>\n   </g>\n   <g id=\"patch_16\">\n    <path d=\"M 273.375655 117.063604 \nC 273.376214 116.968042 273.376632 116.872479 273.376911 116.776916 \nC 273.37719 116.681353 273.37733 116.585789 273.37733 116.490225 \nL 175.202076 116.490215 \nL 273.375655 117.063604 \nz\n\" style=\"fill:#9467bd;\"/>\n   </g>\n   <g id=\"matplotlib.axis_1\"/>\n   <g id=\"matplotlib.axis_2\"/>\n   <g id=\"text_1\">\n    <!-- 7 -->\n    <defs>\n     <path d=\"M 8.203125 72.90625 \nL 55.078125 72.90625 \nL 55.078125 68.703125 \nL 28.609375 0 \nL 18.3125 0 \nL 43.21875 64.59375 \nL 8.203125 64.59375 \nz\n\" id=\"DejaVuSans-55\"/>\n    </defs>\n    <g transform=\"translate(269.738343 67.044853)scale(0.1 -0.1)\">\n     <use xlink:href=\"#DejaVuSans-55\"/>\n    </g>\n   </g>\n   <g id=\"text_2\">\n    <!-- 14 -->\n    <defs>\n     <path d=\"M 12.40625 8.296875 \nL 28.515625 8.296875 \nL 28.515625 63.921875 \nL 10.984375 60.40625 \nL 10.984375 69.390625 \nL 28.421875 72.90625 \nL 38.28125 72.90625 \nL 38.28125 8.296875 \nL 54.390625 8.296875 \nL 54.390625 0 \nL 12.40625 0 \nz\n\" id=\"DejaVuSans-49\"/>\n     <path d=\"M 37.796875 64.3125 \nL 12.890625 25.390625 \nL 37.796875 25.390625 \nz\nM 35.203125 72.90625 \nL 47.609375 72.90625 \nL 47.609375 25.390625 \nL 58.015625 25.390625 \nL 58.015625 17.1875 \nL 47.609375 17.1875 \nL 47.609375 0 \nL 37.796875 0 \nL 37.796875 17.1875 \nL 4.890625 17.1875 \nL 4.890625 26.703125 \nz\n\" id=\"DejaVuSans-52\"/>\n    </defs>\n    <g transform=\"translate(212.752346 17.995367)scale(0.1 -0.1)\">\n     <use xlink:href=\"#DejaVuSans-49\"/>\n     <use x=\"63.623047\" xlink:href=\"#DejaVuSans-52\"/>\n    </g>\n   </g>\n   <g id=\"text_3\">\n    <!-- 1 -->\n    <g transform=\"translate(134.184278 16.968356)scale(0.1 -0.1)\">\n     <use xlink:href=\"#DejaVuSans-49\"/>\n    </g>\n   </g>\n   <g id=\"text_4\">\n    <!-- 2 -->\n    <defs>\n     <path d=\"M 19.1875 8.296875 \nL 53.609375 8.296875 \nL 53.609375 0 \nL 7.328125 0 \nL 7.328125 8.296875 \nQ 12.9375 14.109375 22.625 23.890625 \nQ 32.328125 33.6875 34.8125 36.53125 \nQ 39.546875 41.84375 41.421875 45.53125 \nQ 43.3125 49.21875 43.3125 52.78125 \nQ 43.3125 58.59375 39.234375 62.25 \nQ 35.15625 65.921875 28.609375 65.921875 \nQ 23.96875 65.921875 18.8125 64.3125 \nQ 13.671875 62.703125 7.8125 59.421875 \nL 7.8125 69.390625 \nQ 13.765625 71.78125 18.9375 73 \nQ 24.125 74.21875 28.421875 74.21875 \nQ 39.75 74.21875 46.484375 68.546875 \nQ 53.21875 62.890625 53.21875 53.421875 \nQ 53.21875 48.921875 51.53125 44.890625 \nQ 49.859375 40.875 45.40625 35.40625 \nQ 44.1875 33.984375 37.640625 27.21875 \nQ 31.109375 20.453125 19.1875 8.296875 \nz\n\" id=\"DejaVuSans-50\"/>\n    </defs>\n    <g transform=\"translate(63.107061 141.228571)scale(0.1 -0.1)\">\n     <use xlink:href=\"#DejaVuSans-50\"/>\n    </g>\n   </g>\n   <g id=\"text_5\">\n    <!-- 13 -->\n    <defs>\n     <path d=\"M 40.578125 39.3125 \nQ 47.65625 37.796875 51.625 33 \nQ 55.609375 28.21875 55.609375 21.1875 \nQ 55.609375 10.40625 48.1875 4.484375 \nQ 40.765625 -1.421875 27.09375 -1.421875 \nQ 22.515625 -1.421875 17.65625 -0.515625 \nQ 12.796875 0.390625 7.625 2.203125 \nL 7.625 11.71875 \nQ 11.71875 9.328125 16.59375 8.109375 \nQ 21.484375 6.890625 26.8125 6.890625 \nQ 36.078125 6.890625 40.9375 10.546875 \nQ 45.796875 14.203125 45.796875 21.1875 \nQ 45.796875 27.640625 41.28125 31.265625 \nQ 36.765625 34.90625 28.71875 34.90625 \nL 20.21875 34.90625 \nL 20.21875 43.015625 \nL 29.109375 43.015625 \nQ 36.375 43.015625 40.234375 45.921875 \nQ 44.09375 48.828125 44.09375 54.296875 \nQ 44.09375 59.90625 40.109375 62.90625 \nQ 36.140625 65.921875 28.71875 65.921875 \nQ 24.65625 65.921875 20.015625 65.03125 \nQ 15.375 64.15625 9.8125 62.3125 \nL 9.8125 71.09375 \nQ 15.4375 72.65625 20.34375 73.4375 \nQ 25.25 74.21875 29.59375 74.21875 \nQ 40.828125 74.21875 47.359375 69.109375 \nQ 53.90625 64.015625 53.90625 55.328125 \nQ 53.90625 49.265625 50.4375 45.09375 \nQ 46.96875 40.921875 40.578125 39.3125 \nz\n\" id=\"DejaVuSans-51\"/>\n    </defs>\n    <g transform=\"translate(127.777518 221.515816)scale(0.1 -0.1)\">\n     <use xlink:href=\"#DejaVuSans-49\"/>\n     <use x=\"63.623047\" xlink:href=\"#DejaVuSans-51\"/>\n    </g>\n   </g>\n   <g id=\"text_6\">\n    <!-- 12 -->\n    <g transform=\"translate(149.781118 226.493484)scale(0.1 -0.1)\">\n     <use xlink:href=\"#DejaVuSans-49\"/>\n     <use x=\"63.623047\" xlink:href=\"#DejaVuSans-50\"/>\n    </g>\n   </g>\n   <g id=\"text_7\">\n    <!-- 3 -->\n    <g transform=\"translate(217.655442 218.547888)scale(0.1 -0.1)\">\n     <use xlink:href=\"#DejaVuSans-51\"/>\n    </g>\n   </g>\n   <g id=\"text_8\">\n    <!-- 10 -->\n    <defs>\n     <path d=\"M 31.78125 66.40625 \nQ 24.171875 66.40625 20.328125 58.90625 \nQ 16.5 51.421875 16.5 36.375 \nQ 16.5 21.390625 20.328125 13.890625 \nQ 24.171875 6.390625 31.78125 6.390625 \nQ 39.453125 6.390625 43.28125 13.890625 \nQ 47.125 21.390625 47.125 36.375 \nQ 47.125 51.421875 43.28125 58.90625 \nQ 39.453125 66.40625 31.78125 66.40625 \nz\nM 31.78125 74.21875 \nQ 44.046875 74.21875 50.515625 64.515625 \nQ 56.984375 54.828125 56.984375 36.375 \nQ 56.984375 17.96875 50.515625 8.265625 \nQ 44.046875 -1.421875 31.78125 -1.421875 \nQ 19.53125 -1.421875 13.0625 8.265625 \nQ 6.59375 17.96875 6.59375 36.375 \nQ 6.59375 54.828125 13.0625 64.515625 \nQ 19.53125 74.21875 31.78125 74.21875 \nz\n\" id=\"DejaVuSans-48\"/>\n    </defs>\n    <g transform=\"translate(262.641407 182.627849)scale(0.1 -0.1)\">\n     <use xlink:href=\"#DejaVuSans-49\"/>\n     <use x=\"63.623047\" xlink:href=\"#DejaVuSans-48\"/>\n    </g>\n   </g>\n   <g id=\"text_9\">\n    <!-- 6 -->\n    <defs>\n     <path d=\"M 33.015625 40.375 \nQ 26.375 40.375 22.484375 35.828125 \nQ 18.609375 31.296875 18.609375 23.390625 \nQ 18.609375 15.53125 22.484375 10.953125 \nQ 26.375 6.390625 33.015625 6.390625 \nQ 39.65625 6.390625 43.53125 10.953125 \nQ 47.40625 15.53125 47.40625 23.390625 \nQ 47.40625 31.296875 43.53125 35.828125 \nQ 39.65625 40.375 33.015625 40.375 \nz\nM 52.59375 71.296875 \nL 52.59375 62.3125 \nQ 48.875 64.0625 45.09375 64.984375 \nQ 41.3125 65.921875 37.59375 65.921875 \nQ 27.828125 65.921875 22.671875 59.328125 \nQ 17.53125 52.734375 16.796875 39.40625 \nQ 19.671875 43.65625 24.015625 45.921875 \nQ 28.375 48.1875 33.59375 48.1875 \nQ 44.578125 48.1875 50.953125 41.515625 \nQ 57.328125 34.859375 57.328125 23.390625 \nQ 57.328125 12.15625 50.6875 5.359375 \nQ 44.046875 -1.421875 33.015625 -1.421875 \nQ 20.359375 -1.421875 13.671875 8.265625 \nQ 6.984375 17.96875 6.984375 36.375 \nQ 6.984375 53.65625 15.1875 63.9375 \nQ 23.390625 74.21875 37.203125 74.21875 \nQ 40.921875 74.21875 44.703125 73.484375 \nQ 48.484375 72.75 52.59375 71.296875 \nz\n\" id=\"DejaVuSans-54\"/>\n    </defs>\n    <g transform=\"translate(278.073 152.113147)scale(0.1 -0.1)\">\n     <use xlink:href=\"#DejaVuSans-54\"/>\n    </g>\n   </g>\n   <g id=\"text_10\">\n    <!-- 9 -->\n    <defs>\n     <path d=\"M 10.984375 1.515625 \nL 10.984375 10.5 \nQ 14.703125 8.734375 18.5 7.8125 \nQ 22.3125 6.890625 25.984375 6.890625 \nQ 35.75 6.890625 40.890625 13.453125 \nQ 46.046875 20.015625 46.78125 33.40625 \nQ 43.953125 29.203125 39.59375 26.953125 \nQ 35.25 24.703125 29.984375 24.703125 \nQ 19.046875 24.703125 12.671875 31.3125 \nQ 6.296875 37.9375 6.296875 49.421875 \nQ 6.296875 60.640625 12.9375 67.421875 \nQ 19.578125 74.21875 30.609375 74.21875 \nQ 43.265625 74.21875 49.921875 64.515625 \nQ 56.59375 54.828125 56.59375 36.375 \nQ 56.59375 19.140625 48.40625 8.859375 \nQ 40.234375 -1.421875 26.421875 -1.421875 \nQ 22.703125 -1.421875 18.890625 -0.6875 \nQ 15.09375 0.046875 10.984375 1.515625 \nz\nM 30.609375 32.421875 \nQ 37.25 32.421875 41.125 36.953125 \nQ 45.015625 41.5 45.015625 49.421875 \nQ 45.015625 57.28125 41.125 61.84375 \nQ 37.25 66.40625 30.609375 66.40625 \nQ 23.96875 66.40625 20.09375 61.84375 \nQ 16.21875 57.28125 16.21875 49.421875 \nQ 16.21875 41.5 20.09375 36.953125 \nQ 23.96875 32.421875 30.609375 32.421875 \nz\n\" id=\"DejaVuSans-57\"/>\n    </defs>\n    <g transform=\"translate(282.318053 132.983047)scale(0.1 -0.1)\">\n     <use xlink:href=\"#DejaVuSans-57\"/>\n    </g>\n   </g>\n   <g id=\"text_11\">\n    <!-- 8 -->\n    <defs>\n     <path d=\"M 31.78125 34.625 \nQ 24.75 34.625 20.71875 30.859375 \nQ 16.703125 27.09375 16.703125 20.515625 \nQ 16.703125 13.921875 20.71875 10.15625 \nQ 24.75 6.390625 31.78125 6.390625 \nQ 38.8125 6.390625 42.859375 10.171875 \nQ 46.921875 13.96875 46.921875 20.515625 \nQ 46.921875 27.09375 42.890625 30.859375 \nQ 38.875 34.625 31.78125 34.625 \nz\nM 21.921875 38.8125 \nQ 15.578125 40.375 12.03125 44.71875 \nQ 8.5 49.078125 8.5 55.328125 \nQ 8.5 64.0625 14.71875 69.140625 \nQ 20.953125 74.21875 31.78125 74.21875 \nQ 42.671875 74.21875 48.875 69.140625 \nQ 55.078125 64.0625 55.078125 55.328125 \nQ 55.078125 49.078125 51.53125 44.71875 \nQ 48 40.375 41.703125 38.8125 \nQ 48.828125 37.15625 52.796875 32.3125 \nQ 56.78125 27.484375 56.78125 20.515625 \nQ 56.78125 9.90625 50.3125 4.234375 \nQ 43.84375 -1.421875 31.78125 -1.421875 \nQ 19.734375 -1.421875 13.25 4.234375 \nQ 6.78125 9.90625 6.78125 20.515625 \nQ 6.78125 27.484375 10.78125 32.3125 \nQ 14.796875 37.15625 21.921875 38.8125 \nz\nM 18.3125 54.390625 \nQ 18.3125 48.734375 21.84375 45.5625 \nQ 25.390625 42.390625 31.78125 42.390625 \nQ 38.140625 42.390625 41.71875 45.5625 \nQ 45.3125 48.734375 45.3125 54.390625 \nQ 45.3125 60.0625 41.71875 63.234375 \nQ 38.140625 66.40625 31.78125 66.40625 \nQ 25.390625 66.40625 21.84375 63.234375 \nQ 18.3125 60.0625 18.3125 54.390625 \nz\n\" id=\"DejaVuSans-56\"/>\n    </defs>\n    <g transform=\"translate(282.777636 128.733219)scale(0.1 -0.1)\">\n     <use xlink:href=\"#DejaVuSans-56\"/>\n    </g>\n   </g>\n   <g id=\"text_12\">\n    <!-- 0 -->\n    <g transform=\"translate(283.02345 125.331668)scale(0.1 -0.1)\">\n     <use xlink:href=\"#DejaVuSans-48\"/>\n    </g>\n   </g>\n   <g id=\"text_13\">\n    <!-- 4 -->\n    <g transform=\"translate(283.164286 121.818961)scale(0.1 -0.1)\">\n     <use xlink:href=\"#DejaVuSans-52\"/>\n    </g>\n   </g>\n   <g id=\"text_14\">\n    <!-- 11 -->\n    <g transform=\"translate(283.191848 120.055515)scale(0.1 -0.1)\">\n     <use xlink:href=\"#DejaVuSans-49\"/>\n     <use x=\"63.623047\" xlink:href=\"#DejaVuSans-49\"/>\n    </g>\n   </g>\n   <g id=\"text_15\">\n    <!-- 5 -->\n    <defs>\n     <path d=\"M 10.796875 72.90625 \nL 49.515625 72.90625 \nL 49.515625 64.59375 \nL 19.828125 64.59375 \nL 19.828125 46.734375 \nQ 21.96875 47.46875 24.109375 47.828125 \nQ 26.265625 48.1875 28.421875 48.1875 \nQ 40.625 48.1875 47.75 41.5 \nQ 54.890625 34.8125 54.890625 23.390625 \nQ 54.890625 11.625 47.5625 5.09375 \nQ 40.234375 -1.421875 26.90625 -1.421875 \nQ 22.3125 -1.421875 17.546875 -0.640625 \nQ 12.796875 0.140625 7.71875 1.703125 \nL 7.71875 11.625 \nQ 12.109375 9.234375 16.796875 8.0625 \nQ 21.484375 6.890625 26.703125 6.890625 \nQ 35.15625 6.890625 40.078125 11.328125 \nQ 45.015625 15.765625 45.015625 23.390625 \nQ 45.015625 31 40.078125 35.4375 \nQ 35.15625 39.890625 26.703125 39.890625 \nQ 22.75 39.890625 18.8125 39.015625 \nQ 14.890625 38.140625 10.796875 36.28125 \nz\n\" id=\"DejaVuSans-53\"/>\n    </defs>\n    <g transform=\"translate(283.194395 119.564961)scale(0.1 -0.1)\">\n     <use xlink:href=\"#DejaVuSans-53\"/>\n    </g>\n   </g>\n  </g>\n </g>\n</svg>\n",
      "image/png": "[encoded data removed]"
     },
     "metadata": {}
    }
   ],
   "source": [
    "import matplotlib.pyplot as plt\n",
    "\n",
    "# Data to plot\n",
    "labels = topic_distribution.keys()\n",
    "sizes = topic_distribution.values()\n",
    "\n",
    "# Plot\n",
    "plt.pie(sizes,labels=labels)\n",
    "\n",
    "plt.axis('equal')\n",
    "plt.show()"
   ]
  },
  {
   "cell_type": "code",
   "execution_count": null,
   "metadata": {},
   "outputs": [],
   "source": []
  }
 ]
}